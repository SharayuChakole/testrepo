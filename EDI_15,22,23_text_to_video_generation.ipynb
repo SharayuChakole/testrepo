{
  "cells": [
    {
      "cell_type": "code",
      "execution_count": null,
      "metadata": {
        "colab": {
          "base_uri": "https://localhost:8080/",
          "height": 157
        },
        "id": "9CWTO4W5qyIU",
        "outputId": "262463e6-63d0-41d7-980d-79f536d2864a"
      },
      "outputs": [
        {
          "output_type": "execute_result",
          "data": {
            "text/plain": [
              "'India Gate is situated in New Delhi, India. It is a historical monument which was earlier known as All India War Memorial. It was designed by Edwin Lutyens in 1921, in the memory of the Indian soldiers who died during the World War I.\\n\\nIndia Gate is 42 meters high and a radius of 625 meters. It is a famous tourist destination. At the bottom of India Gate, there is another monument known as Amar Jawan Jyoti.  Amar Jawan Jyoti was constructed after independence. It is customary for the President and the Prime Minister of the country to pay homage at India Gate during state ceremonies.\\n\\nThe view around India Gate is beautiful, and one can see Rashtrapati Bhawan standing majestically in the vicinity of the India Gate. On the Republic day every year, a parade is conducted by the Indian army, navy, and soldiers of India at the India Gate. During the parade, one can appreciate the diverse cultural heritage of India, as many people from all over the country participate in it. Latest advancement of defense technology is displayed on this occasion, and many people are awarded for their bravery towards the nation.'"
            ],
            "application/vnd.google.colaboratory.intrinsic+json": {
              "type": "string"
            }
          },
          "metadata": {},
          "execution_count": 1
        }
      ],
      "source": [
        "# load text\n",
        "filename = 'TextFile.txt'\n",
        "file = open(filename, 'rt')\n",
        "text = file.read()\n",
        "file.close()\n",
        "text"
      ]
    },
    {
      "cell_type": "code",
      "source": [
        "from google.colab import userdata\n",
        "GEMINI_API_KEY = userdata.get('GEMINI_API_KEY')"
      ],
      "metadata": {
        "id": "gfDz25x8OVMq"
      },
      "execution_count": null,
      "outputs": []
    },
    {
      "cell_type": "code",
      "source": [
        "!pip install -q -U google-generativeai"
      ],
      "metadata": {
        "colab": {
          "base_uri": "https://localhost:8080/"
        },
        "id": "kaIFIjC0Tie3",
        "outputId": "50f12342-9be6-432c-a9d4-590b89314284"
      },
      "execution_count": null,
      "outputs": [
        {
          "output_type": "stream",
          "name": "stdout",
          "text": [
            "\u001b[?25l     \u001b[90m━━━━━━━━━━━━━━━━━━━━━━━━━━━━━━━━━━━━━━━━\u001b[0m \u001b[32m0.0/137.4 kB\u001b[0m \u001b[31m?\u001b[0m eta \u001b[36m-:--:--\u001b[0m\r\u001b[2K     \u001b[90m━━━━━━━━━━━━━━━━━━━━━━━━━━━━━━━━━━━━━━━━\u001b[0m \u001b[32m137.4/137.4 kB\u001b[0m \u001b[31m4.0 MB/s\u001b[0m eta \u001b[36m0:00:00\u001b[0m\n",
            "\u001b[?25h"
          ]
        }
      ]
    },
    {
      "cell_type": "code",
      "source": [
        "import google.generativeai as genai\n",
        "genai.configure(api_key=GEMINI_API_KEY)\n",
        "\n",
        "model = genai.GenerativeModel('gemini-pro')\n",
        "chat = model.start_chat(history=[])\n",
        "response = chat.send_message(\"Summarize the text for the user retaining the important information \" + text)\n",
        "text = response.text\n",
        "print(text)"
      ],
      "metadata": {
        "id": "mT4g1S55S_k2",
        "colab": {
          "base_uri": "https://localhost:8080/",
          "height": 54
        },
        "outputId": "246c922c-c34a-4a38-acd4-bc57bae6c085"
      },
      "execution_count": null,
      "outputs": [
        {
          "output_type": "stream",
          "name": "stdout",
          "text": [
            "India Gate, a 42-meter war memorial in New Delhi, honors Indian soldiers lost in World War I. Designed in 1921, the gate features the \"Amar Jawan Jyoti\" eternal flame in memory of fallen soldiers. It is a popular tourist destination and serves as a venue for state ceremonies, such as the Republic Day parade. The gate stands close to Rashtrapati Bhawan, the Indian presidential palace.\n"
          ]
        }
      ]
    },
    {
      "cell_type": "code",
      "execution_count": null,
      "metadata": {
        "colab": {
          "base_uri": "https://localhost:8080/"
        },
        "id": "2sejY3XZ3bFr",
        "outputId": "82a08bf5-699b-434c-8148-f341a781204d"
      },
      "outputs": [
        {
          "output_type": "stream",
          "name": "stdout",
          "text": [
            "Collecting gTTs\n",
            "  Downloading gTTS-2.5.1-py3-none-any.whl (29 kB)\n",
            "Requirement already satisfied: requests<3,>=2.27 in /usr/local/lib/python3.10/dist-packages (from gTTs) (2.31.0)\n",
            "Requirement already satisfied: click<8.2,>=7.1 in /usr/local/lib/python3.10/dist-packages (from gTTs) (8.1.7)\n",
            "Requirement already satisfied: charset-normalizer<4,>=2 in /usr/local/lib/python3.10/dist-packages (from requests<3,>=2.27->gTTs) (3.3.2)\n",
            "Requirement already satisfied: idna<4,>=2.5 in /usr/local/lib/python3.10/dist-packages (from requests<3,>=2.27->gTTs) (3.6)\n",
            "Requirement already satisfied: urllib3<3,>=1.21.1 in /usr/local/lib/python3.10/dist-packages (from requests<3,>=2.27->gTTs) (2.0.7)\n",
            "Requirement already satisfied: certifi>=2017.4.17 in /usr/local/lib/python3.10/dist-packages (from requests<3,>=2.27->gTTs) (2024.2.2)\n",
            "Installing collected packages: gTTs\n",
            "Successfully installed gTTs-2.5.1\n"
          ]
        }
      ],
      "source": [
        "pip install gTTs"
      ]
    },
    {
      "cell_type": "code",
      "execution_count": null,
      "metadata": {
        "id": "i4p0mU8y3fKx"
      },
      "outputs": [],
      "source": [
        "# Import the required module for text\n",
        "# to speech conversion\n",
        "from gtts import gTTS\n",
        "\n",
        "# This module is imported so that we can\n",
        "# play the converted audio\n",
        "import os\n",
        "\n",
        "# The text that you want to convert to audio\n",
        "mytext = text\n",
        "\n",
        "# Language in which you want to convert\n",
        "language = 'hi'\n",
        "\n",
        "# Passing the text and language to the engine,\n",
        "# here we have marked slow=False. Which tells\n",
        "# the module that the converted audio should\n",
        "# have a high speed\n",
        "myobj = gTTS(text=mytext, lang=language, slow=False)\n",
        "\n",
        "# Saving the converted audio in a mp3 file named\n",
        "# welcome\n",
        "myobj.save(\"audio.mp3\")\n"
      ]
    },
    {
      "cell_type": "code",
      "execution_count": null,
      "metadata": {
        "colab": {
          "base_uri": "https://localhost:8080/"
        },
        "id": "W92BxFG2rNH2",
        "outputId": "898ff36a-07d0-4917-dc2d-332d57a455a4"
      },
      "outputs": [
        {
          "output_type": "stream",
          "name": "stdout",
          "text": [
            "Requirement already satisfied: nltk in /usr/local/lib/python3.10/dist-packages (3.8.1)\n",
            "Requirement already satisfied: click in /usr/local/lib/python3.10/dist-packages (from nltk) (8.1.7)\n",
            "Requirement already satisfied: joblib in /usr/local/lib/python3.10/dist-packages (from nltk) (1.3.2)\n",
            "Requirement already satisfied: regex>=2021.8.3 in /usr/local/lib/python3.10/dist-packages (from nltk) (2023.12.25)\n",
            "Requirement already satisfied: tqdm in /usr/local/lib/python3.10/dist-packages (from nltk) (4.66.2)\n"
          ]
        }
      ],
      "source": [
        "!pip install nltk"
      ]
    },
    {
      "cell_type": "code",
      "execution_count": null,
      "metadata": {
        "colab": {
          "base_uri": "https://localhost:8080/"
        },
        "id": "rbtTlSmCrpOE",
        "outputId": "9a3f4f57-b3e0-428c-b8b7-273e6eef88b3"
      },
      "outputs": [
        {
          "output_type": "stream",
          "name": "stderr",
          "text": [
            "[nltk_data] Downloading package vader_lexicon to /root/nltk_data...\n",
            "[nltk_data] Downloading package punkt to /root/nltk_data...\n",
            "[nltk_data]   Unzipping tokenizers/punkt.zip.\n",
            "[nltk_data] Downloading package stopwords to /root/nltk_data...\n",
            "[nltk_data]   Unzipping corpora/stopwords.zip.\n"
          ]
        },
        {
          "output_type": "execute_result",
          "data": {
            "text/plain": [
              "True"
            ]
          },
          "metadata": {},
          "execution_count": 8
        }
      ],
      "source": [
        "import nltk\n",
        "nltk.download('vader_lexicon')\n",
        "nltk.download('punkt')\n",
        "nltk.download('stopwords')"
      ]
    },
    {
      "cell_type": "code",
      "execution_count": null,
      "metadata": {
        "collapsed": true,
        "id": "5px405c6qyIh"
      },
      "outputs": [],
      "source": [
        "import re\n",
        "# Removing Square Brackets and Extra Spaces\n",
        "article_text = re.sub(r'\\[[0-9]*\\]', ' ', text)\n",
        "article_text = re.sub(r'\\s+', ' ', text)\n",
        "\n",
        "# Removing special characters and digits\n",
        "formatted_article_text = re.sub('[^a-zA-Z]', ' ', article_text )\n",
        "formatted_article_text = re.sub(r'\\s+', ' ',article_text)"
      ]
    },
    {
      "cell_type": "code",
      "execution_count": null,
      "metadata": {
        "colab": {
          "base_uri": "https://localhost:8080/",
          "height": 70
        },
        "id": "PgTwFCynqyIi",
        "outputId": "74b16b92-b45a-4e1b-ba5d-dbade46b6a37"
      },
      "outputs": [
        {
          "output_type": "execute_result",
          "data": {
            "text/plain": [
              "'India Gate, a 42-meter war memorial in New Delhi, honors Indian soldiers lost in World War I. Designed in 1921, the gate features the \"Amar Jawan Jyoti\" eternal flame in memory of fallen soldiers. It is a popular tourist destination and serves as a venue for state ceremonies, such as the Republic Day parade. The gate stands close to Rashtrapati Bhawan, the Indian presidential palace.'"
            ],
            "application/vnd.google.colaboratory.intrinsic+json": {
              "type": "string"
            }
          },
          "metadata": {},
          "execution_count": 38
        }
      ],
      "source": [
        "formatted_article_text"
      ]
    },
    {
      "cell_type": "code",
      "execution_count": null,
      "metadata": {
        "colab": {
          "base_uri": "https://localhost:8080/"
        },
        "id": "UcIdJm3XqyIj",
        "outputId": "b646d2bd-fb1b-4f10-a141-a2f2bfd76d06"
      },
      "outputs": [
        {
          "output_type": "stream",
          "name": "stdout",
          "text": [
            "['India Gate, a 42-meter war memorial in New Delhi, honors Indian soldiers lost in World War I.', 'Designed in 1921, the gate features the \"Amar Jawan Jyoti\" eternal flame in memory of fallen soldiers.', 'It is a popular tourist destination and serves as a venue for state ceremonies, such as the Republic Day parade.', 'The gate stands close to Rashtrapati Bhawan, the Indian presidential palace.'] \n",
            "  \n"
          ]
        }
      ],
      "source": [
        "from nltk.tokenize import word_tokenize\n",
        "from nltk.tokenize import sent_tokenize\n",
        "SenTok=sent_tokenize(formatted_article_text)\n",
        "print(SenTok,\"\\n  \")"
      ]
    },
    {
      "cell_type": "code",
      "source": [
        "SenTok = [f\"{index + 1:02d}. {sentence}\" for index, sentence in enumerate(SenTok)]\n",
        "\n",
        "\n",
        "print(SenTok)"
      ],
      "metadata": {
        "colab": {
          "base_uri": "https://localhost:8080/"
        },
        "id": "LQLr7mKXY8Ho",
        "outputId": "a560130a-62ad-4fb3-c92b-b176f2f6048c"
      },
      "execution_count": null,
      "outputs": [
        {
          "output_type": "stream",
          "name": "stdout",
          "text": [
            "['01. India Gate, a 42-meter war memorial in New Delhi, honors Indian soldiers lost in World War I.', '02. Designed in 1921, the gate features the \"Amar Jawan Jyoti\" eternal flame in memory of fallen soldiers.', '03. It is a popular tourist destination and serves as a venue for state ceremonies, such as the Republic Day parade.', '04. The gate stands close to Rashtrapati Bhawan, the Indian presidential palace.']\n"
          ]
        }
      ]
    },
    {
      "cell_type": "code",
      "execution_count": null,
      "metadata": {
        "collapsed": true,
        "id": "XG9_QmqyqyI4"
      },
      "outputs": [],
      "source": [
        "summary_sent = SenTok"
      ]
    },
    {
      "cell_type": "code",
      "execution_count": null,
      "metadata": {
        "colab": {
          "base_uri": "https://localhost:8080/"
        },
        "id": "2dlfwL8a39UL",
        "outputId": "34e19478-6d63-40a7-b4ab-ccad73a10463"
      },
      "outputs": [
        {
          "output_type": "execute_result",
          "data": {
            "text/plain": [
              "['01. India Gate, a 42-meter war memorial in New Delhi, honors Indian soldiers lost in World War I.',\n",
              " '02. Designed in 1921, the gate features the \"Amar Jawan Jyoti\" eternal flame in memory of fallen soldiers.',\n",
              " '03. It is a popular tourist destination and serves as a venue for state ceremonies, such as the Republic Day parade.',\n",
              " '04. The gate stands close to Rashtrapati Bhawan, the Indian presidential palace.']"
            ]
          },
          "metadata": {},
          "execution_count": 42
        }
      ],
      "source": [
        "summary_sent"
      ]
    },
    {
      "cell_type": "code",
      "execution_count": null,
      "metadata": {
        "colab": {
          "base_uri": "https://localhost:8080/"
        },
        "id": "1UqpCNiMz-Lb",
        "outputId": "96c6a675-96a6-4b55-a66e-bc69c523804e"
      },
      "outputs": [
        {
          "output_type": "stream",
          "name": "stdout",
          "text": [
            "Collecting bing-image-downloader\n",
            "  Downloading bing_image_downloader-1.1.2-py3-none-any.whl (5.9 kB)\n",
            "Installing collected packages: bing-image-downloader\n",
            "Successfully installed bing-image-downloader-1.1.2\n"
          ]
        }
      ],
      "source": [
        "!pip install bing-image-downloader"
      ]
    },
    {
      "cell_type": "code",
      "execution_count": null,
      "metadata": {
        "colab": {
          "base_uri": "https://localhost:8080/"
        },
        "id": "xMzi1Arpz8UR",
        "outputId": "19d320e7-2650-496d-aaae-21f7803998e6"
      },
      "outputs": [
        {
          "output_type": "stream",
          "name": "stdout",
          "text": [
            "[%] Downloading Images to /content/down1/01. India Gate, a 42-meter war memorial in New Delhi, honors Indian soldiers lost in World War I.\n",
            "\n",
            "\n",
            "[!!]Indexing page: 1\n",
            "\n",
            "[%] Indexed 4 Images on Page 1.\n",
            "\n",
            "===============================================\n",
            "\n",
            "[%] Downloading Image #1 from https://media.tripinvites.com/places/new-delhi/india-gate/national-war-memorial/war-memorial-india-gate-featured-featured.jpg\n",
            "[%] File Downloaded !\n",
            "\n",
            "[%] Downloading Image #2 from https://images.adsttc.com/media/images/5e87/009e/b357/6512/c600/010d/newsletter/08.__Circle_of_Immortality_-_Amar_Chakra.jpg?1585905795\n",
            "[%] File Downloaded !\n",
            "\n",
            "[%] Downloading Image #3 from https://www.stirworld.com/images/article_gallery/190610035737.jpg\n",
            "[%] File Downloaded !\n",
            "\n",
            "[%] Downloading Image #4 from https://assets.cntraveller.in/photos/60be231208a8d8e46bba8b21/master/w_1600%2Cc_limit/National-memorial-war-3-.jpg\n",
            "[%] File Downloaded !\n",
            "\n",
            "\n",
            "\n",
            "[%] Done. Downloaded 4 images.\n",
            "Downloaded images for query: 01. India Gate, a 42-meter war memorial in New Delhi, honors Indian soldiers lost in World War I.\n",
            "[%] Downloading Images to /content/down1/02. Designed in 1921, the gate features the \"Amar Jawan Jyoti\" eternal flame in memory of fallen soldiers.\n",
            "\n",
            "\n",
            "[!!]Indexing page: 1\n",
            "\n",
            "[%] Indexed 4 Images on Page 1.\n",
            "\n",
            "===============================================\n",
            "\n",
            "[%] Downloading Image #1 from https://thelogicalindian.com/h-upload/2022/01/21/210898-general-34.jpg\n",
            "[%] File Downloaded !\n",
            "\n",
            "[%] Downloading Image #2 from https://s3.ap-southeast-1.amazonaws.com/imgnew.outlookindia.com/uploadimage/library/16_9/16_9_5/IMAGE_1642760305.jpg\n",
            "[%] File Downloaded !\n",
            "\n",
            "[%] Downloading Image #3 from https://media.tripinvites.com/places/new-delhi/india-gate/amar-jawan-jyoti/amar-jawan-jyoti-featured.jpg\n",
            "[%] File Downloaded !\n",
            "\n",
            "[%] Downloading Image #4 from https://assets.telegraphindia.com/telegraph/2022/Jan/1642791528_22flame_6c.jpg\n",
            "[%] File Downloaded !\n",
            "\n",
            "\n",
            "\n",
            "[%] Done. Downloaded 4 images.\n",
            "Downloaded images for query: 02. Designed in 1921, the gate features the \"Amar Jawan Jyoti\" eternal flame in memory of fallen soldiers.\n",
            "[%] Downloading Images to /content/down1/03. It is a popular tourist destination and serves as a venue for state ceremonies, such as the Republic Day parade.\n",
            "\n",
            "\n",
            "[!!]Indexing page: 1\n",
            "\n",
            "[%] Indexed 4 Images on Page 1.\n",
            "\n",
            "===============================================\n",
            "\n",
            "[%] Downloading Image #1 from https://images.news18.com/ibnlive/uploads/2023/01/republic-day-parade-167455087316x9.jpg\n",
            "[%] File Downloaded !\n",
            "\n",
            "[%] Downloading Image #2 from https://www.instacart.com/company/wp-content/uploads/2022/03/Uniquely-Popular-Pies-A-1050x1082.png\n",
            "[%] File Downloaded !\n",
            "\n",
            "[%] Downloading Image #3 from https://ticketsearch.in/wp-content/uploads/2023/12/Republic-Day-Parade-New-Delhi-Ticket-Price.webp\n",
            "[%] File Downloaded !\n",
            "\n",
            "[%] Downloading Image #4 from https://i.pinimg.com/originals/d5/2e/2b/d52e2bced17ffd2dfefe4d794de0f81f.jpg\n",
            "[%] File Downloaded !\n",
            "\n",
            "\n",
            "\n",
            "[%] Done. Downloaded 4 images.\n",
            "Downloaded images for query: 03. It is a popular tourist destination and serves as a venue for state ceremonies, such as the Republic Day parade.\n",
            "[%] Downloading Images to /content/down1/04. The gate stands close to Rashtrapati Bhawan, the Indian presidential palace.\n",
            "\n",
            "\n",
            "[!!]Indexing page: 1\n",
            "\n",
            "[%] Indexed 4 Images on Page 1.\n",
            "\n",
            "===============================================\n",
            "\n",
            "[%] Downloading Image #1 from https://assets.gqindia.com/photos/65ae1a9d54a425071f73b814/master/w_1600%2Cc_limit/Rashtrapati-Bhavan.jpg\n",
            "[%] File Downloaded !\n",
            "\n",
            "[%] Downloading Image #2 from https://thearchinsider.com/wp-content/uploads/2021/05/Lutyens-Delhi-07.jpg\n",
            "[%] File Downloaded !\n",
            "\n",
            "[%] Downloading Image #3 from https://www.gg2.net/wp-content/uploads/2020/04/rashtrapati-bhavan.jpg\n",
            "[%] File Downloaded !\n",
            "\n",
            "[%] Downloading Image #4 from https://theenglishpost.com/wp-content/uploads/2020/04/FB_IMG_1587465392907.jpg\n",
            "[%] File Downloaded !\n",
            "\n",
            "\n",
            "\n",
            "[%] Done. Downloaded 4 images.\n",
            "Downloaded images for query: 04. The gate stands close to Rashtrapati Bhawan, the Indian presidential palace.\n"
          ]
        }
      ],
      "source": [
        "from bing_image_downloader import downloader\n",
        "\n",
        "my_set = {}\n",
        "\n",
        "def download_images(query):\n",
        "    try:\n",
        "        # Download images based on the given query\n",
        "        downloader.download(query, limit=4, output_dir='down1', adult_filter_off=True, force_replace=False, timeout=60)\n",
        "        print(\"Downloaded images for query:\", query)\n",
        "    except Exception as e:\n",
        "        print(\"Error occurred:\", str(e))\n",
        "\n",
        "# Driver Code\n",
        "for query in summary_sent:\n",
        "    download_images(query)\n",
        "\n"
      ]
    },
    {
      "cell_type": "code",
      "execution_count": null,
      "metadata": {
        "colab": {
          "base_uri": "https://localhost:8080/"
        },
        "id": "8Ef6haig3IzM",
        "outputId": "2b2faad3-6c6b-468f-a568-a28df45192f4"
      },
      "outputs": [
        {
          "output_type": "stream",
          "name": "stdout",
          "text": [
            "down1/01. India Gate, a 42-meter war memorial in New Delhi, honors Indian soldiers lost in World War I.\n",
            "down1/02. Designed in 1921, the gate features the \"Amar Jawan Jyoti\" eternal flame in memory of fallen soldiers.\n",
            "down1/03. It is a popular tourist destination and serves as a venue for state ceremonies, such as the Republic Day parade.\n",
            "down1/04. The gate stands close to Rashtrapati Bhawan, the Indian presidential palace.\n",
            "{'01. India Gate, a 42-meter war memorial in New Delhi, honors Indian soldiers lost in World War I.': ['down1/01. India Gate, a 42-meter war memorial in New Delhi, honors Indian soldiers lost in World War I./Image_3.jpg', 'down1/01. India Gate, a 42-meter war memorial in New Delhi, honors Indian soldiers lost in World War I./Image_2.jpg', 'down1/01. India Gate, a 42-meter war memorial in New Delhi, honors Indian soldiers lost in World War I./Image_1.jpg', 'down1/01. India Gate, a 42-meter war memorial in New Delhi, honors Indian soldiers lost in World War I./Image_4.jpg'], '02. Designed in 1921, the gate features the \"Amar Jawan Jyoti\" eternal flame in memory of fallen soldiers.': ['down1/02. Designed in 1921, the gate features the \"Amar Jawan Jyoti\" eternal flame in memory of fallen soldiers./Image_3.jpg', 'down1/02. Designed in 1921, the gate features the \"Amar Jawan Jyoti\" eternal flame in memory of fallen soldiers./Image_2.jpg', 'down1/02. Designed in 1921, the gate features the \"Amar Jawan Jyoti\" eternal flame in memory of fallen soldiers./Image_1.jpg', 'down1/02. Designed in 1921, the gate features the \"Amar Jawan Jyoti\" eternal flame in memory of fallen soldiers./Image_4.jpg'], '03. It is a popular tourist destination and serves as a venue for state ceremonies, such as the Republic Day parade.': ['down1/03. It is a popular tourist destination and serves as a venue for state ceremonies, such as the Republic Day parade./Image_2.png', 'down1/03. It is a popular tourist destination and serves as a venue for state ceremonies, such as the Republic Day parade./Image_1.jpg', 'down1/03. It is a popular tourist destination and serves as a venue for state ceremonies, such as the Republic Day parade./Image_4.jpg'], '04. The gate stands close to Rashtrapati Bhawan, the Indian presidential palace.': ['down1/04. The gate stands close to Rashtrapati Bhawan, the Indian presidential palace./Image_3.jpg', 'down1/04. The gate stands close to Rashtrapati Bhawan, the Indian presidential palace./Image_2.jpg', 'down1/04. The gate stands close to Rashtrapati Bhawan, the Indian presidential palace./Image_1.jpg', 'down1/04. The gate stands close to Rashtrapati Bhawan, the Indian presidential palace./Image_4.jpg']}\n"
          ]
        }
      ],
      "source": [
        "import os\n",
        "\n",
        "def get_image_paths(folder_path):\n",
        "    image_dict = {}\n",
        "    # Iterate through each subdirectory in the main folder\n",
        "    for subfolder in sorted(os.listdir(folder_path)):\n",
        "        subfolder_path = os.path.join(folder_path, subfolder)\n",
        "        print(subfolder_path)\n",
        "        # print(subfolder_path)\n",
        "        # Check if the subdirectory is a folder\n",
        "        if os.path.isdir(subfolder_path):\n",
        "            # Get a list of image files in the subdirectory with full paths\n",
        "            image_files = [os.path.join(subfolder_path, file) for file in os.listdir(subfolder_path) if file.lower().endswith(('.png', '.jpg', '.jpeg', '.gif'))]\n",
        "            # Store the list of image file paths in the dictionary\n",
        "            image_dict[subfolder] = image_files\n",
        "    return image_dict\n",
        "\n",
        "# Example usage:\n",
        "main_folder_path = 'down1'  # Replace with the path to your main folder\n",
        "my_set = get_image_paths(main_folder_path)\n",
        "print(my_set)\n"
      ]
    },
    {
      "cell_type": "code",
      "execution_count": null,
      "metadata": {
        "collapsed": true,
        "id": "uWBKDknDqyI_",
        "colab": {
          "base_uri": "https://localhost:8080/"
        },
        "outputId": "342cf05d-701e-4d7a-b6ac-c51999a86861"
      },
      "outputs": [
        {
          "output_type": "stream",
          "name": "stdout",
          "text": [
            "[['down1/01. India Gate, a 42-meter war memorial in New Delhi, honors Indian soldiers lost in World War I./Image_3.jpg', 'down1/01. India Gate, a 42-meter war memorial in New Delhi, honors Indian soldiers lost in World War I./Image_2.jpg', 'down1/01. India Gate, a 42-meter war memorial in New Delhi, honors Indian soldiers lost in World War I./Image_1.jpg', 'down1/01. India Gate, a 42-meter war memorial in New Delhi, honors Indian soldiers lost in World War I./Image_4.jpg'], ['down1/02. Designed in 1921, the gate features the \"Amar Jawan Jyoti\" eternal flame in memory of fallen soldiers./Image_3.jpg', 'down1/02. Designed in 1921, the gate features the \"Amar Jawan Jyoti\" eternal flame in memory of fallen soldiers./Image_2.jpg', 'down1/02. Designed in 1921, the gate features the \"Amar Jawan Jyoti\" eternal flame in memory of fallen soldiers./Image_1.jpg', 'down1/02. Designed in 1921, the gate features the \"Amar Jawan Jyoti\" eternal flame in memory of fallen soldiers./Image_4.jpg'], ['down1/03. It is a popular tourist destination and serves as a venue for state ceremonies, such as the Republic Day parade./Image_2.png', 'down1/03. It is a popular tourist destination and serves as a venue for state ceremonies, such as the Republic Day parade./Image_1.jpg', 'down1/03. It is a popular tourist destination and serves as a venue for state ceremonies, such as the Republic Day parade./Image_4.jpg'], ['down1/04. The gate stands close to Rashtrapati Bhawan, the Indian presidential palace./Image_3.jpg', 'down1/04. The gate stands close to Rashtrapati Bhawan, the Indian presidential palace./Image_2.jpg', 'down1/04. The gate stands close to Rashtrapati Bhawan, the Indian presidential palace./Image_1.jpg', 'down1/04. The gate stands close to Rashtrapati Bhawan, the Indian presidential palace./Image_4.jpg']]\n"
          ]
        }
      ],
      "source": [
        "all_paths=list(my_set.values())\n",
        "print(all_paths)\n",
        "flat_list=[]"
      ]
    },
    {
      "cell_type": "code",
      "execution_count": null,
      "metadata": {
        "collapsed": true,
        "id": "d2rUBB02qyJB"
      },
      "outputs": [],
      "source": [
        "for sublist in all_paths:\n",
        "    for item in sublist:\n",
        "        flat_list.append(item)"
      ]
    },
    {
      "cell_type": "code",
      "execution_count": null,
      "metadata": {
        "colab": {
          "base_uri": "https://localhost:8080/"
        },
        "id": "nDy1NtB8qyJG",
        "outputId": "a1281704-db78-4541-98d6-a47e2f7271c6"
      },
      "outputs": [
        {
          "output_type": "execute_result",
          "data": {
            "text/plain": [
              "['down1/01. India Gate, a 42-meter war memorial in New Delhi, honors Indian soldiers lost in World War I./Image_3.jpg',\n",
              " 'down1/01. India Gate, a 42-meter war memorial in New Delhi, honors Indian soldiers lost in World War I./Image_2.jpg',\n",
              " 'down1/01. India Gate, a 42-meter war memorial in New Delhi, honors Indian soldiers lost in World War I./Image_1.jpg',\n",
              " 'down1/01. India Gate, a 42-meter war memorial in New Delhi, honors Indian soldiers lost in World War I./Image_4.jpg',\n",
              " 'down1/02. Designed in 1921, the gate features the \"Amar Jawan Jyoti\" eternal flame in memory of fallen soldiers./Image_3.jpg',\n",
              " 'down1/02. Designed in 1921, the gate features the \"Amar Jawan Jyoti\" eternal flame in memory of fallen soldiers./Image_2.jpg',\n",
              " 'down1/02. Designed in 1921, the gate features the \"Amar Jawan Jyoti\" eternal flame in memory of fallen soldiers./Image_1.jpg',\n",
              " 'down1/02. Designed in 1921, the gate features the \"Amar Jawan Jyoti\" eternal flame in memory of fallen soldiers./Image_4.jpg',\n",
              " 'down1/03. It is a popular tourist destination and serves as a venue for state ceremonies, such as the Republic Day parade./Image_2.png',\n",
              " 'down1/03. It is a popular tourist destination and serves as a venue for state ceremonies, such as the Republic Day parade./Image_1.jpg',\n",
              " 'down1/03. It is a popular tourist destination and serves as a venue for state ceremonies, such as the Republic Day parade./Image_4.jpg',\n",
              " 'down1/04. The gate stands close to Rashtrapati Bhawan, the Indian presidential palace./Image_3.jpg',\n",
              " 'down1/04. The gate stands close to Rashtrapati Bhawan, the Indian presidential palace./Image_2.jpg',\n",
              " 'down1/04. The gate stands close to Rashtrapati Bhawan, the Indian presidential palace./Image_1.jpg',\n",
              " 'down1/04. The gate stands close to Rashtrapati Bhawan, the Indian presidential palace./Image_4.jpg']"
            ]
          },
          "metadata": {},
          "execution_count": 48
        }
      ],
      "source": [
        "flat_list"
      ]
    },
    {
      "cell_type": "code",
      "execution_count": null,
      "metadata": {
        "collapsed": true,
        "id": "NA2HqFb5qyJY"
      },
      "outputs": [],
      "source": [
        "i=1\n",
        "no=[]\n",
        "#str2='C:\\\\Users\\\\basac\\\\Desktop\\\\leading india workshop\\\\PROJECT\\\\images\\\\'\n",
        "str2='/content/images1/'\n",
        "str1=\".jpg\"\n",
        "while i <= len(flat_list):  # Use <= to include all images\n",
        "    # Use string formatting to ensure numbers are represented with leading zeros\n",
        "    filename = f\"{str2}{i:02d}{str1}\"\n",
        "    no.append(filename)\n",
        "    i += 1\n"
      ]
    },
    {
      "cell_type": "code",
      "execution_count": null,
      "metadata": {
        "colab": {
          "base_uri": "https://localhost:8080/"
        },
        "id": "FmW8Bar2qyJZ",
        "outputId": "9643035a-6c5e-404d-d2a5-96559269221a"
      },
      "outputs": [
        {
          "output_type": "execute_result",
          "data": {
            "text/plain": [
              "['/content/images1/01.jpg',\n",
              " '/content/images1/02.jpg',\n",
              " '/content/images1/03.jpg',\n",
              " '/content/images1/04.jpg',\n",
              " '/content/images1/05.jpg',\n",
              " '/content/images1/06.jpg',\n",
              " '/content/images1/07.jpg',\n",
              " '/content/images1/08.jpg',\n",
              " '/content/images1/09.jpg',\n",
              " '/content/images1/10.jpg',\n",
              " '/content/images1/11.jpg',\n",
              " '/content/images1/12.jpg',\n",
              " '/content/images1/13.jpg',\n",
              " '/content/images1/14.jpg',\n",
              " '/content/images1/15.jpg']"
            ]
          },
          "metadata": {},
          "execution_count": 50
        }
      ],
      "source": [
        "no"
      ]
    },
    {
      "cell_type": "code",
      "execution_count": null,
      "metadata": {
        "colab": {
          "base_uri": "https://localhost:8080/"
        },
        "id": "1HowA0_yqyJl",
        "outputId": "f1d14a9f-3180-4d51-b63a-e86c161460e8"
      },
      "outputs": [
        {
          "output_type": "stream",
          "name": "stdout",
          "text": [
            "down1/01. India Gate, a 42-meter war memorial in New Delhi, honors Indian soldiers lost in World War I./Image_3.jpg\n",
            "down1/01. India Gate, a 42-meter war memorial in New Delhi, honors Indian soldiers lost in World War I./Image_2.jpg\n",
            "down1/01. India Gate, a 42-meter war memorial in New Delhi, honors Indian soldiers lost in World War I./Image_1.jpg\n",
            "down1/01. India Gate, a 42-meter war memorial in New Delhi, honors Indian soldiers lost in World War I./Image_4.jpg\n",
            "down1/02. Designed in 1921, the gate features the \"Amar Jawan Jyoti\" eternal flame in memory of fallen soldiers./Image_3.jpg\n",
            "down1/02. Designed in 1921, the gate features the \"Amar Jawan Jyoti\" eternal flame in memory of fallen soldiers./Image_2.jpg\n",
            "down1/02. Designed in 1921, the gate features the \"Amar Jawan Jyoti\" eternal flame in memory of fallen soldiers./Image_1.jpg\n",
            "down1/02. Designed in 1921, the gate features the \"Amar Jawan Jyoti\" eternal flame in memory of fallen soldiers./Image_4.jpg\n",
            "down1/03. It is a popular tourist destination and serves as a venue for state ceremonies, such as the Republic Day parade./Image_2.png\n",
            "down1/03. It is a popular tourist destination and serves as a venue for state ceremonies, such as the Republic Day parade./Image_1.jpg\n",
            "down1/03. It is a popular tourist destination and serves as a venue for state ceremonies, such as the Republic Day parade./Image_4.jpg\n",
            "down1/04. The gate stands close to Rashtrapati Bhawan, the Indian presidential palace./Image_3.jpg\n",
            "down1/04. The gate stands close to Rashtrapati Bhawan, the Indian presidential palace./Image_2.jpg\n",
            "down1/04. The gate stands close to Rashtrapati Bhawan, the Indian presidential palace./Image_1.jpg\n",
            "down1/04. The gate stands close to Rashtrapati Bhawan, the Indian presidential palace./Image_4.jpg\n"
          ]
        }
      ],
      "source": [
        "from PIL import Image\n",
        "i=0\n",
        "l=len(flat_list)\n",
        "\n",
        "try:\n",
        "    while i < l:\n",
        "        Image.open(flat_list[i]).convert('RGB')\n",
        "        print(flat_list[i])\n",
        "        i=i+1\n",
        "\n",
        "except:\n",
        "    pass\n",
        "\n"
      ]
    },
    {
      "cell_type": "code",
      "execution_count": null,
      "metadata": {
        "colab": {
          "base_uri": "https://localhost:8080/"
        },
        "id": "D9eehTPBqyJq",
        "outputId": "71711a18-d0d0-4968-f92e-a7aa124be126"
      },
      "outputs": [
        {
          "output_type": "stream",
          "name": "stdout",
          "text": [
            "down1/01. India Gate, a 42-meter war memorial in New Delhi, honors Indian soldiers lost in World War I./Image_3.jpg\n",
            "down1/01. India Gate, a 42-meter war memorial in New Delhi, honors Indian soldiers lost in World War I./Image_2.jpg\n",
            "down1/01. India Gate, a 42-meter war memorial in New Delhi, honors Indian soldiers lost in World War I./Image_1.jpg\n",
            "down1/01. India Gate, a 42-meter war memorial in New Delhi, honors Indian soldiers lost in World War I./Image_4.jpg\n",
            "down1/02. Designed in 1921, the gate features the \"Amar Jawan Jyoti\" eternal flame in memory of fallen soldiers./Image_3.jpg\n",
            "down1/02. Designed in 1921, the gate features the \"Amar Jawan Jyoti\" eternal flame in memory of fallen soldiers./Image_2.jpg\n",
            "down1/02. Designed in 1921, the gate features the \"Amar Jawan Jyoti\" eternal flame in memory of fallen soldiers./Image_1.jpg\n",
            "down1/02. Designed in 1921, the gate features the \"Amar Jawan Jyoti\" eternal flame in memory of fallen soldiers./Image_4.jpg\n",
            "down1/03. It is a popular tourist destination and serves as a venue for state ceremonies, such as the Republic Day parade./Image_2.png\n",
            "down1/03. It is a popular tourist destination and serves as a venue for state ceremonies, such as the Republic Day parade./Image_1.jpg\n",
            "down1/03. It is a popular tourist destination and serves as a venue for state ceremonies, such as the Republic Day parade./Image_4.jpg\n",
            "down1/04. The gate stands close to Rashtrapati Bhawan, the Indian presidential palace./Image_3.jpg\n",
            "down1/04. The gate stands close to Rashtrapati Bhawan, the Indian presidential palace./Image_2.jpg\n",
            "down1/04. The gate stands close to Rashtrapati Bhawan, the Indian presidential palace./Image_1.jpg\n",
            "down1/04. The gate stands close to Rashtrapati Bhawan, the Indian presidential palace./Image_4.jpg\n"
          ]
        }
      ],
      "source": [
        "\n",
        "\n",
        "try:\n",
        "    i=0\n",
        "    while i < l:\n",
        "        Image.open(flat_list[i]).convert('RGB').save(no[i])\n",
        "        print(flat_list[i])\n",
        "\n",
        "        i+=1\n",
        "except:\n",
        "    pass\n"
      ]
    },
    {
      "cell_type": "code",
      "source": [
        "no = sorted(no)\n",
        "no"
      ],
      "metadata": {
        "colab": {
          "base_uri": "https://localhost:8080/"
        },
        "id": "YDB946lS5OvZ",
        "outputId": "710c829a-a9a8-4628-8082-83a42301971b"
      },
      "execution_count": null,
      "outputs": [
        {
          "output_type": "execute_result",
          "data": {
            "text/plain": [
              "['/content/images1/01.jpg',\n",
              " '/content/images1/02.jpg',\n",
              " '/content/images1/03.jpg',\n",
              " '/content/images1/04.jpg',\n",
              " '/content/images1/05.jpg',\n",
              " '/content/images1/06.jpg',\n",
              " '/content/images1/07.jpg',\n",
              " '/content/images1/08.jpg',\n",
              " '/content/images1/09.jpg',\n",
              " '/content/images1/10.jpg',\n",
              " '/content/images1/11.jpg',\n",
              " '/content/images1/12.jpg',\n",
              " '/content/images1/13.jpg',\n",
              " '/content/images1/14.jpg',\n",
              " '/content/images1/15.jpg']"
            ]
          },
          "metadata": {},
          "execution_count": 53
        }
      ]
    },
    {
      "cell_type": "code",
      "execution_count": null,
      "metadata": {
        "id": "0VgZx9hGqyJr"
      },
      "outputs": [],
      "source": [
        "    \"\"\"\n",
        "    Create a video from a list of images.\n",
        "\n",
        "    @param      outvid      output video\n",
        "    @param      images      list of images to use in the video\n",
        "    @param      fps         frame per second\n",
        "    @param      size        size of each frame\n",
        "    @param      is_color    color\n",
        "    @param      format      see http://www.fourcc.org/codecs.php\n",
        "    @return                 see http://opencv-python-tutroals.readthedocs.org/en/latest/py_tutorials/py_gui/py_video_display/py_video_display.html\n",
        "\n",
        "    The function relies on http://opencv-python-tutroals.readthedocs.org/en/latest/.\n",
        "    By default, the video will have the size of the first image.\n",
        "    It will resize every image to this size before adding them to the video.\n",
        "    \"\"\""
      ]
    },
    {
      "cell_type": "code",
      "execution_count": null,
      "metadata": {
        "collapsed": true,
        "id": "SAWOsy9YqyJs"
      },
      "outputs": [],
      "source": [
        "import os\n",
        "def make_video(images, outimg=None, fps=2, size=None,\n",
        "               is_color=True, format=\"XVID\"):\n",
        "\n",
        "    from cv2 import VideoWriter, VideoWriter_fourcc, imread, resize\n",
        "    fourcc = VideoWriter_fourcc(*format)\n",
        "    vid = None\n",
        "    for image in images:\n",
        "        if not os.path.exists(image):\n",
        "            raise FileNotFoundError(image)\n",
        "        img = imread(image)\n",
        "        if vid is None:\n",
        "            if size is None:\n",
        "                size = img.shape[1], img.shape[0]\n",
        "            vid = VideoWriter('video.mp4', fourcc, float(fps), size, is_color)\n",
        "        if size[0] != img.shape[1] and size[1] != img.shape[0]:\n",
        "            img = resize(img, size)\n",
        "        vid.write(img)\n",
        "    vid.release()\n",
        "    return vid"
      ]
    },
    {
      "cell_type": "code",
      "execution_count": null,
      "metadata": {
        "colab": {
          "base_uri": "https://localhost:8080/"
        },
        "id": "q4OuElKoqyJt",
        "outputId": "04d011db-fdd8-46ba-83bb-054b76b7e451"
      },
      "outputs": [
        {
          "output_type": "execute_result",
          "data": {
            "text/plain": [
              "< cv2.VideoWriter 0x794bd3517290>"
            ]
          },
          "metadata": {},
          "execution_count": 55
        }
      ],
      "source": [
        "make_video(no, outimg=None, fps=0.4, size=None,is_color=True, format=\"XVID\")"
      ]
    },
    {
      "cell_type": "code",
      "execution_count": null,
      "metadata": {
        "collapsed": true,
        "id": "nm6S9FcWqyJz"
      },
      "outputs": [],
      "source": [
        "import moviepy\n",
        "import moviepy.editor as mp\n"
      ]
    },
    {
      "cell_type": "code",
      "source": [
        "pip install pydub"
      ],
      "metadata": {
        "colab": {
          "base_uri": "https://localhost:8080/"
        },
        "id": "jlBoUzBrkIy3",
        "outputId": "90aca36e-811a-4c4b-8c52-003a90a8183d"
      },
      "execution_count": null,
      "outputs": [
        {
          "output_type": "stream",
          "name": "stdout",
          "text": [
            "Collecting pydub\n",
            "  Downloading pydub-0.25.1-py2.py3-none-any.whl (32 kB)\n",
            "Installing collected packages: pydub\n",
            "Successfully installed pydub-0.25.1\n"
          ]
        }
      ]
    },
    {
      "cell_type": "code",
      "source": [
        "from pydub import AudioSegment\n",
        "sound1 = AudioSegment.from_file(\"neu_sound.mp3\")\n",
        "sound2 = AudioSegment.from_file(\"audio.mp3\")\n",
        "\n",
        "played_togther = sound1.overlay(sound2, gain_during_overlay=-25)\n",
        "file_handle = played_togther.export(\"/content/mixed.mp3\", format=\"mp3\")"
      ],
      "metadata": {
        "id": "pW5vsElwkRHQ"
      },
      "execution_count": null,
      "outputs": []
    },
    {
      "cell_type": "code",
      "execution_count": null,
      "metadata": {
        "colab": {
          "base_uri": "https://localhost:8080/"
        },
        "id": "-C2KGcz_qyJz",
        "outputId": "7d17afd0-1dc8-4c90-dd73-3299c1af6187"
      },
      "outputs": [
        {
          "output_type": "stream",
          "name": "stdout",
          "text": [
            "Moviepy - Building video output.mp4.\n",
            "MoviePy - Writing audio in outputTEMP_MPY_wvf_snd.mp3\n"
          ]
        },
        {
          "output_type": "stream",
          "name": "stderr",
          "text": []
        },
        {
          "output_type": "stream",
          "name": "stdout",
          "text": [
            "MoviePy - Done.\n",
            "Moviepy - Writing video output.mp4\n",
            "\n"
          ]
        },
        {
          "output_type": "stream",
          "name": "stderr",
          "text": []
        },
        {
          "output_type": "stream",
          "name": "stdout",
          "text": [
            "Moviepy - Done !\n",
            "Moviepy - video ready output.mp4\n"
          ]
        }
      ],
      "source": [
        "\n",
        "audio = mp.AudioFileClip(\"mixed.mp3\")\n",
        "video1 = mp.VideoFileClip(\"video.mp4\")\n",
        "final = mp.concatenate_videoclips([video1]).set_audio(audio)\n",
        "final.write_videofile(\"output.mp4\")"
      ]
    }
  ],
  "metadata": {
    "accelerator": "TPU",
    "colab": {
      "gpuType": "V28",
      "provenance": []
    },
    "kernelspec": {
      "display_name": "Python 3",
      "name": "python3"
    },
    "language_info": {
      "codemirror_mode": {
        "name": "ipython",
        "version": 3
      },
      "file_extension": ".py",
      "mimetype": "text/x-python",
      "name": "python",
      "nbconvert_exporter": "python",
      "pygments_lexer": "ipython3",
      "version": "3.6.3"
    }
  },
  "nbformat": 4,
  "nbformat_minor": 0
}